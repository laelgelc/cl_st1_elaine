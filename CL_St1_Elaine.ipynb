{
 "cells": [
  {
   "cell_type": "markdown",
   "id": "810d9f10-ec19-4b09-8f90-e983e460b319",
   "metadata": {},
   "source": [
    "<center>\n",
    "<img src=\"https://laelgelcpublic.s3.sa-east-1.amazonaws.com/lael_50_years_narrow_white.png.no_years.400px_96dpi.png\" width=\"300\" alt=\"LAEL 50 years logo\">\n",
    "<h3>APPLIED LINGUISTICS GRADUATE PROGRAMME (LAEL)</h3>\n",
    "</center>\n",
    "<hr>"
   ]
  },
  {
   "cell_type": "markdown",
   "id": "888c2c96-2fc3-4a1a-995b-c388036a2a15",
   "metadata": {},
   "source": [
    "# Corpus Linguistics - Study 1 - Elaine"
   ]
  },
  {
   "cell_type": "markdown",
   "id": "3aebd6b9-2057-4f49-a2d1-dfa91cd40a6d",
   "metadata": {},
   "source": [
    "## Video annotation proof-of-concept"
   ]
  },
  {
   "cell_type": "markdown",
   "id": "0788c4af-1c7c-4f6d-8212-6cfded965e7c",
   "metadata": {},
   "source": [
    "### Downloading YouTube videos"
   ]
  },
  {
   "cell_type": "markdown",
   "id": "19ffec56-f136-429f-9004-4f947232b1b4",
   "metadata": {},
   "source": [
    "The most reliable way to download YouTube videos is to subscribe to YouTube Premium. Please refer to the following article on the Internet:\n",
    "\n",
    "- [7 Easy Ways to Download YouTube Videos](https://www.wikihow.com/Ways-to-Download-YouTube-Videos)\n",
    "\n",
    "For the purpose od this proof-of-concept the following resource was used:\n",
    "\n",
    "- [Open Video Downloader](https://github.com/StefanLobbenmeier/youtube-dl-gui)"
   ]
  },
  {
   "cell_type": "markdown",
   "id": "0437ffdb-2470-4ba1-b183-5aa6a7f1d1e6",
   "metadata": {},
   "source": [
    "### Google Cloud Video Intelligence API"
   ]
  },
  {
   "cell_type": "markdown",
   "id": "7f5e5d59-4274-4560-b943-09f25310950f",
   "metadata": {},
   "source": [
    "Please refer to:\n",
    "\n",
    "- [Google Cloud Video Intelligence API](https://cloud.google.com/video-intelligence?hl=en)\n",
    "- [Google Cloud Video Intelligence API documentation](https://cloud.google.com/video-intelligence/docs)"
   ]
  },
  {
   "cell_type": "code",
   "execution_count": null,
   "id": "1f9c5393-7adc-4957-a59d-19bd3fe227eb",
   "metadata": {},
   "outputs": [],
   "source": []
  }
 ],
 "metadata": {
  "kernelspec": {
   "display_name": "Python 3 (ipykernel)",
   "language": "python",
   "name": "python3"
  },
  "language_info": {
   "codemirror_mode": {
    "name": "ipython",
    "version": 3
   },
   "file_extension": ".py",
   "mimetype": "text/x-python",
   "name": "python",
   "nbconvert_exporter": "python",
   "pygments_lexer": "ipython3",
   "version": "3.11.8"
  }
 },
 "nbformat": 4,
 "nbformat_minor": 5
}
