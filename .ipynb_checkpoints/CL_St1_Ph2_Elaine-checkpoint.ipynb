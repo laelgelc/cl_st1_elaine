{
 "cells": [
  {
   "cell_type": "markdown",
   "id": "810d9f10-ec19-4b09-8f90-e983e460b319",
   "metadata": {
    "jp-MarkdownHeadingCollapsed": true
   },
   "source": [
    "<center>\n",
    "<img src=\"https://laelgelcpublic.s3.sa-east-1.amazonaws.com/lael_50_years_narrow_white.png.no_years.400px_96dpi.png\" width=\"300\" alt=\"LAEL 50 years logo\">\n",
    "<h3>APPLIED LINGUISTICS GRADUATE PROGRAMME (LAEL)</h3>\n",
    "</center>\n",
    "<hr>"
   ]
  },
  {
   "cell_type": "markdown",
   "id": "888c2c96-2fc3-4a1a-995b-c388036a2a15",
   "metadata": {},
   "source": [
    "# Corpus Linguistics - Study 1 - Phase 2 - Elaine\n",
    "# Image annotation proof-of-concept"
   ]
  },
  {
   "cell_type": "markdown",
   "id": "0437ffdb-2470-4ba1-b183-5aa6a7f1d1e6",
   "metadata": {},
   "source": [
    "## Google Cloud Video Intelligence API"
   ]
  },
  {
   "cell_type": "markdown",
   "id": "7f5e5d59-4274-4560-b943-09f25310950f",
   "metadata": {},
   "source": [
    "Cloud Vision allows developers to easily integrate vision detection features within applications, including image labeling, face and landmark detection, optical character recognition (OCR), and tagging of explicit content.\n",
    "\n",
    "Please refer to:\n",
    "\n",
    "- [Google Cloud Vision API](https://cloud.google.com/vision?hl=en)\n",
    "- [Google Cloud Vision API documentation](https://cloud.google.com/vision/docs)\n",
    "- [Python Client for Cloud Vision](https://cloud.google.com/python/docs/reference/vision/latest)"
   ]
  },
  {
   "cell_type": "markdown",
   "id": "7e0c8679-5971-4050-8656-266db5357153",
   "metadata": {},
   "source": [
    "## Required packages"
   ]
  },
  {
   "cell_type": "markdown",
   "id": "944a8065-d5fd-4ce4-9a6b-d9542f75b6eb",
   "metadata": {},
   "source": [
    "The following packages are required:\n",
    "- [Google Cloud Storage API](https://anaconda.org/conda-forge/google-cloud-storage)\n",
    "- [Google Cloud Vision API](https://anaconda.org/conda-forge/google-cloud-vision)"
   ]
  },
  {
   "cell_type": "markdown",
   "id": "87d612d1-e2e2-48ff-a2f1-dd28038f6e80",
   "metadata": {},
   "source": [
    "## Importing the required libraries"
   ]
  },
  {
   "cell_type": "code",
   "execution_count": 1,
   "id": "7d166f32-a72a-4bb1-ba69-a4118a92464f",
   "metadata": {},
   "outputs": [],
   "source": [
    "import datetime\n",
    "import os\n",
    "import subprocess\n",
    "from google.cloud import storage\n",
    "from google.cloud import vision"
   ]
  },
  {
   "cell_type": "markdown",
   "id": "cfda82c0-d1ad-4050-beb1-2e8316ebd84f",
   "metadata": {},
   "source": [
    "## Label annotation"
   ]
  },
  {
   "cell_type": "markdown",
   "id": "2263d99a-4871-43ee-a747-0c0d83312c19",
   "metadata": {},
   "source": [
    "The images were renamend and uploaded to a Google Cloud Storage bucket.\n",
    "\n",
    "- Number of images: 80 units\n",
    "- Processing time: 13 min"
   ]
  },
  {
   "cell_type": "markdown",
   "id": "f22db9e5-74e3-441b-b06a-d1e888b2b7ba",
   "metadata": {},
   "source": [
    "### Uploading images to Google Cloud Storage"
   ]
  },
  {
   "cell_type": "code",
   "execution_count": 2,
   "id": "1ed21d7b-e2d8-4913-9acf-80b4322c7846",
   "metadata": {},
   "outputs": [
    {
     "name": "stdout",
     "output_type": "stream",
     "text": [
      "2024-09-02 19:12:14\n"
     ]
    },
    {
     "name": "stdin",
     "output_type": "stream",
     "text": [
      "Enter your project name:  build-159206\n",
      "Enter your bucket name:  laelimages\n"
     ]
    },
    {
     "name": "stdout",
     "output_type": "stream",
     "text": [
      "Directory ./images/images uploaded to laelimages/images successfully!\n",
      "2024-09-02 19:13:43\n"
     ]
    }
   ],
   "source": [
    "timestamp = datetime.datetime.now().strftime('%Y-%m-%d %H:%M:%S')\n",
    "print(timestamp)\n",
    "\n",
    "def upload_directory_to_bucket(bucket_name, source_directory, destination_blob_name):\n",
    "    storage_client = storage.Client()\n",
    "    bucket = storage_client.bucket(bucket_name)\n",
    "\n",
    "    for root, dirs, files in os.walk(source_directory):\n",
    "        for file in files:\n",
    "            local_path = os.path.join(root, file)\n",
    "            blob_path = os.path.join(destination_blob_name, os.path.relpath(local_path, source_directory))\n",
    "            blob = bucket.blob(blob_path)\n",
    "            blob.upload_from_filename(local_path)\n",
    "\n",
    "    print(f'Directory {source_directory} uploaded to {bucket_name}/{destination_blob_name} successfully!')\n",
    "\n",
    "end = False\n",
    "while end == False:\n",
    "    my_project = str(input('Enter your project name: '))\n",
    "    if my_project != '':\n",
    "        os.environ['GOOGLE_CLOUD_PROJECT'] = my_project\n",
    "        end = True\n",
    "\n",
    "end = False\n",
    "while end == False:\n",
    "    my_bucket = str(input('Enter your bucket name: '))\n",
    "    if my_bucket != '':\n",
    "        bucket_name = my_bucket\n",
    "        end = True\n",
    "\n",
    "source_directory = r'./images/images'\n",
    "destination_blob_name = 'images'\n",
    "upload_directory_to_bucket(bucket_name, source_directory, destination_blob_name)\n",
    "\n",
    "timestamp = datetime.datetime.now().strftime('%Y-%m-%d %H:%M:%S')\n",
    "print(timestamp)"
   ]
  },
  {
   "cell_type": "markdown",
   "id": "356e1eca-d2d7-4701-9bcb-5ce7fbcdf95f",
   "metadata": {},
   "source": [
    "### Label detection"
   ]
  },
  {
   "cell_type": "code",
   "execution_count": 3,
   "id": "63518e55-de96-4848-b4ac-c832205ee79e",
   "metadata": {},
   "outputs": [
    {
     "name": "stdout",
     "output_type": "stream",
     "text": [
      "2024-09-02 19:13:43\n"
     ]
    },
    {
     "name": "stdin",
     "output_type": "stream",
     "text": [
      "Enter your project name:  build-159206\n",
      "Enter your bucket name:  laelimages\n"
     ]
    },
    {
     "name": "stdout",
     "output_type": "stream",
     "text": [
      "---- detect-labels 1 / 80 ----\n",
      "---- detect-labels 2 / 80 ----\n",
      "---- detect-labels 3 / 80 ----\n",
      "---- detect-labels 4 / 80 ----\n",
      "---- detect-labels 5 / 80 ----\n",
      "---- detect-labels 6 / 80 ----\n",
      "---- detect-labels 7 / 80 ----\n",
      "---- detect-labels 8 / 80 ----\n",
      "---- detect-labels 9 / 80 ----\n",
      "---- detect-labels 10 / 80 ----\n",
      "---- detect-labels 11 / 80 ----\n",
      "---- detect-labels 12 / 80 ----\n",
      "---- detect-labels 13 / 80 ----\n",
      "---- detect-labels 14 / 80 ----\n",
      "---- detect-labels 15 / 80 ----\n",
      "---- detect-labels 16 / 80 ----\n",
      "---- detect-labels 17 / 80 ----\n",
      "---- detect-labels 18 / 80 ----\n",
      "---- detect-labels 19 / 80 ----\n",
      "---- detect-labels 20 / 80 ----\n",
      "---- detect-labels 21 / 80 ----\n",
      "---- detect-labels 22 / 80 ----\n",
      "---- detect-labels 23 / 80 ----\n",
      "---- detect-labels 24 / 80 ----\n",
      "---- detect-labels 25 / 80 ----\n",
      "---- detect-labels 26 / 80 ----\n",
      "---- detect-labels 27 / 80 ----\n",
      "---- detect-labels 28 / 80 ----\n",
      "---- detect-labels 29 / 80 ----\n",
      "---- detect-labels 30 / 80 ----\n",
      "---- detect-labels 31 / 80 ----\n",
      "---- detect-labels 32 / 80 ----\n",
      "---- detect-labels 33 / 80 ----\n",
      "---- detect-labels 34 / 80 ----\n",
      "---- detect-labels 35 / 80 ----\n",
      "---- detect-labels 36 / 80 ----\n",
      "---- detect-labels 37 / 80 ----\n",
      "---- detect-labels 38 / 80 ----\n",
      "---- detect-labels 39 / 80 ----\n",
      "---- detect-labels 40 / 80 ----\n",
      "---- detect-labels 41 / 80 ----\n",
      "---- detect-labels 42 / 80 ----\n",
      "---- detect-labels 43 / 80 ----\n",
      "---- detect-labels 44 / 80 ----\n",
      "---- detect-labels 45 / 80 ----\n",
      "---- detect-labels 46 / 80 ----\n",
      "---- detect-labels 47 / 80 ----\n",
      "---- detect-labels 48 / 80 ----\n",
      "---- detect-labels 49 / 80 ----\n",
      "---- detect-labels 50 / 80 ----\n",
      "---- detect-labels 51 / 80 ----\n",
      "---- detect-labels 52 / 80 ----\n",
      "---- detect-labels 53 / 80 ----\n",
      "---- detect-labels 54 / 80 ----\n",
      "---- detect-labels 55 / 80 ----\n",
      "---- detect-labels 56 / 80 ----\n",
      "---- detect-labels 57 / 80 ----\n",
      "---- detect-labels 58 / 80 ----\n",
      "---- detect-labels 59 / 80 ----\n",
      "---- detect-labels 60 / 80 ----\n",
      "---- detect-labels 61 / 80 ----\n",
      "---- detect-labels 62 / 80 ----\n",
      "---- detect-labels 63 / 80 ----\n",
      "---- detect-labels 64 / 80 ----\n",
      "---- detect-labels 65 / 80 ----\n",
      "---- detect-labels 66 / 80 ----\n",
      "---- detect-labels 67 / 80 ----\n",
      "---- detect-labels 68 / 80 ----\n",
      "---- detect-labels 69 / 80 ----\n",
      "---- detect-labels 70 / 80 ----\n",
      "---- detect-labels 71 / 80 ----\n",
      "---- detect-labels 72 / 80 ----\n",
      "---- detect-labels 73 / 80 ----\n",
      "---- detect-labels 74 / 80 ----\n",
      "---- detect-labels 75 / 80 ----\n",
      "---- detect-labels 76 / 80 ----\n",
      "---- detect-labels 77 / 80 ----\n",
      "---- detect-labels 78 / 80 ----\n",
      "---- detect-labels 79 / 80 ----\n",
      "---- detect-labels 80 / 80 ----\n",
      "2024-09-02 19:26:12\n"
     ]
    }
   ],
   "source": [
    "timestamp = datetime.datetime.now().strftime('%Y-%m-%d %H:%M:%S')\n",
    "print(timestamp)\n",
    "\n",
    "def detect_labels(image_uri):\n",
    "    \"\"\"Detects labels in the image URL using the Google Cloud Vision API.\"\"\"\n",
    "    client = vision.ImageAnnotatorClient()\n",
    "    image = vision.Image()\n",
    "    image.source.image_uri = image_uri\n",
    "    response = client.label_detection(image = image, max_results = 150)\n",
    "    if response.error.message:\n",
    "        raise Exception(f'Error: {response.error.message}')\n",
    "    return response.label_annotations\n",
    "\n",
    "with open('folders', 'r', encoding='utf8') as f:\n",
    "    for folder in f:\n",
    "        folder = folder.strip()\n",
    "        os.makedirs(f'images/google_cloud/labels/{folder}', exist_ok = True)\n",
    "        # os.system(f'rm -f images/google_cloud/labels/{folder}/*')\n",
    "\n",
    "end = False\n",
    "while end == False:\n",
    "    my_project = str(input('Enter your project name: '))\n",
    "    if my_project != '':\n",
    "        os.environ['GOOGLE_CLOUD_PROJECT'] = my_project\n",
    "        end = True\n",
    "\n",
    "end = False\n",
    "while end == False:\n",
    "    my_bucket = str(input('Enter your bucket name: '))\n",
    "    if my_bucket != '':\n",
    "        bucket_name = my_bucket\n",
    "        end = True\n",
    "\n",
    "last = subprocess.run(['tail', '-1', 'images/images_index.txt'], capture_output = True, text = True).stdout.strip().split('|')[1][2:]\n",
    "last = int(last)\n",
    "\n",
    "for i in range(1, last + 1):\n",
    "    try:\n",
    "        with open('images/images_index.txt', 'r', encoding='utf8') as f:\n",
    "            line = next(line for j, line in enumerate(f, start = 1) if j == i)\n",
    "            folder = line.split('|')[0][3:]\n",
    "            n = line.split('|')[1][2:]\n",
    "            id = line.split('|')[2][3:]\n",
    "            file = line.split('|')[5][2:]\n",
    "            ext = line.split('|')[6][2:5]\n",
    "\n",
    "        print(f\"---- detect-labels {i} / {last} ----\")\n",
    "\n",
    "        image_uri = f'gs://{bucket_name}/images/{folder}/{n}.{ext}'\n",
    "        labels = detect_labels(image_uri)\n",
    "        with open(f'images/google_cloud/labels/{folder}/{n}.txt', 'w', encoding='utf8') as f:\n",
    "            for label in labels:\n",
    "                f.write('description: ' + f'{label.description}\\n')\n",
    "                f.write('mid: ' + f'{label.mid}\\n')\n",
    "                f.write('score: ' + f'{label.score}\\n')\n",
    "                f.write('topicality: ' + f'{label.topicality}\\n\\n')\n",
    "    except StopIteration:\n",
    "        print('The iteration was stopped because there were empty files that have been removed.')\n",
    "\n",
    "timestamp = datetime.datetime.now().strftime('%Y-%m-%d %H:%M:%S')\n",
    "print(timestamp)"
   ]
  },
  {
   "cell_type": "markdown",
   "id": "a7133238-ef36-40f8-b884-44293ec2a67d",
   "metadata": {},
   "source": [
    "## Considerations"
   ]
  },
  {
   "cell_type": "markdown",
   "id": "fd801562-10e9-44c5-9874-02964718ee41",
   "metadata": {},
   "source": [
    "### Cost"
   ]
  },
  {
   "cell_type": "markdown",
   "id": "bb7a517c-9a19-468f-a058-b90ff06f2373",
   "metadata": {},
   "source": [
    "Please refer to [Google Cloud Vision API](https://cloud.google.com/vision/pricing) and check `Label Detection`."
   ]
  },
  {
   "cell_type": "code",
   "execution_count": null,
   "id": "83b16a5c-d348-420c-9c4e-2fdffc241d65",
   "metadata": {},
   "outputs": [],
   "source": []
  }
 ],
 "metadata": {
  "kernelspec": {
   "display_name": "Python 3 (ipykernel)",
   "language": "python",
   "name": "python3"
  },
  "language_info": {
   "codemirror_mode": {
    "name": "ipython",
    "version": 3
   },
   "file_extension": ".py",
   "mimetype": "text/x-python",
   "name": "python",
   "nbconvert_exporter": "python",
   "pygments_lexer": "ipython3",
   "version": "3.10.12"
  }
 },
 "nbformat": 4,
 "nbformat_minor": 5
}
